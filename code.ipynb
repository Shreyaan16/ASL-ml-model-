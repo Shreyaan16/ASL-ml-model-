{
 "cells": [
  {
   "cell_type": "code",
   "execution_count": 2,
   "id": "ba414cc0",
   "metadata": {},
   "outputs": [],
   "source": [
    "import os\n",
    "import pickle\n",
    "import mediapipe as mp\n",
    "import cv2\n",
    "import matplotlib.pyplot as plt\n",
    "from sklearn.ensemble import RandomForestClassifier\n",
    "from sklearn.model_selection import train_test_split\n",
    "from sklearn.metrics import classification_report , accuracy_score\n",
    "import numpy as np"
   ]
  },
  {
   "cell_type": "code",
   "execution_count": 3,
   "id": "4478cc5f",
   "metadata": {},
   "outputs": [],
   "source": [
    "DATA_DIR = './train'"
   ]
  },
  {
   "cell_type": "code",
   "execution_count": 5,
   "id": "036546e8",
   "metadata": {},
   "outputs": [],
   "source": [
    "mp_hands = mp.solutions.hands\n",
    "mp_drawing = mp.solutions.drawing_utils\n",
    "mp_drawing_styles = mp.solutions.drawing_styles\n",
    "\n",
    "hands = mp_hands.Hands(static_image_mode=True, min_detection_confidence=0.3)\n",
    "\n",
    "data = []\n",
    "labels = []\n",
    "for dir_ in os.listdir(DATA_DIR):\n",
    "    for img_path in os.listdir(os.path.join(DATA_DIR, dir_)):\n",
    "        data_aux = []\n",
    "\n",
    "        x_ = []\n",
    "        y_ = []\n",
    "\n",
    "        img = cv2.imread(os.path.join(DATA_DIR, dir_, img_path))\n",
    "        img_rgb = cv2.cvtColor(img, cv2.COLOR_BGR2RGB)\n",
    "\n",
    "        results = hands.process(img_rgb)\n",
    "        if results.multi_hand_landmarks:\n",
    "            for hand_landmarks in results.multi_hand_landmarks:\n",
    "                for i in range(len(hand_landmarks.landmark)):\n",
    "                    x = hand_landmarks.landmark[i].x\n",
    "                    y = hand_landmarks.landmark[i].y\n",
    "\n",
    "                    x_.append(x)\n",
    "                    y_.append(y)\n",
    "\n",
    "                for i in range(len(hand_landmarks.landmark)):\n",
    "                    x = hand_landmarks.landmark[i].x\n",
    "                    y = hand_landmarks.landmark[i].y\n",
    "                    data_aux.append(x - min(x_))\n",
    "                    data_aux.append(y - min(y_))\n",
    "\n",
    "            data.append(data_aux)\n",
    "            labels.append(dir_)\n",
    "\n",
    "f = open('data.pickle', 'wb')\n",
    "pickle.dump({'data': data, 'labels': labels}, f)\n",
    "f.close()"
   ]
  },
  {
   "cell_type": "code",
   "execution_count": 5,
   "id": "8eb5e344",
   "metadata": {},
   "outputs": [],
   "source": [
    "data_dict = pickle.load(open('./data.pickle', 'rb'))"
   ]
  },
  {
   "cell_type": "code",
   "execution_count": 21,
   "id": "26bf9602",
   "metadata": {},
   "outputs": [
    {
     "name": "stdout",
     "output_type": "stream",
     "text": [
      "Most common data length: 42\n",
      "Original data size: 4742\n",
      "Filtered data size: 4728\n"
     ]
    }
   ],
   "source": [
    "# First filter the data\n",
    "data_dict = pickle.load(open('./data.pickle', 'rb'))\n",
    "\n",
    "# Find the most common length in your data\n",
    "lengths = [len(d) for d in data_dict['data']]\n",
    "from collections import Counter\n",
    "common_length = Counter(lengths).most_common(1)[0][0]\n",
    "print(f\"Most common data length: {common_length}\")\n",
    "\n",
    "# Filter to keep only entries with that length\n",
    "good_indices = [i for i, d in enumerate(data_dict['data']) if len(d) == common_length]\n",
    "filtered_data = [data_dict['data'][i] for i in good_indices]\n",
    "filtered_labels = [data_dict['labels'][i] for i in good_indices]\n",
    "\n",
    "# Now convert to numpy arrays - just like you did before, but with the filtered data\n",
    "data = np.asarray(filtered_data)\n",
    "labels = np.asarray(filtered_labels)\n",
    "\n",
    "print(f\"Original data size: {len(data_dict['data'])}\")\n",
    "print(f\"Filtered data size: {len(filtered_data)}\")"
   ]
  },
  {
   "cell_type": "code",
   "execution_count": 22,
   "id": "f4504da7",
   "metadata": {},
   "outputs": [],
   "source": [
    "x_train, x_test, y_train, y_test = train_test_split(data, labels, test_size=0.2, shuffle=True, stratify=labels)"
   ]
  },
  {
   "cell_type": "code",
   "execution_count": 23,
   "id": "a8f23c66",
   "metadata": {},
   "outputs": [],
   "source": [
    "model = RandomForestClassifier()\n",
    "model.fit(x_train, y_train)\n",
    "y_predict = model.predict(x_test)"
   ]
  },
  {
   "cell_type": "code",
   "execution_count": 25,
   "id": "34016e89",
   "metadata": {},
   "outputs": [
    {
     "name": "stdout",
     "output_type": "stream",
     "text": [
      "              precision    recall  f1-score   support\n",
      "\n",
      "           A       1.00      1.00      1.00        48\n",
      "           B       1.00      1.00      1.00        52\n",
      "           C       0.96      1.00      0.98        27\n",
      "           D       1.00      1.00      1.00        29\n",
      "           E       1.00      1.00      1.00        49\n",
      "           F       1.00      1.00      1.00        45\n",
      "           G       1.00      1.00      1.00        48\n",
      "           H       1.00      1.00      1.00        23\n",
      "           I       1.00      1.00      1.00        36\n",
      "           K       1.00      0.98      0.99        49\n",
      "           L       1.00      1.00      1.00        36\n",
      "           M       1.00      1.00      1.00        47\n",
      "           N       1.00      1.00      1.00        47\n",
      "           O       1.00      0.97      0.99        36\n",
      "           P       1.00      1.00      1.00        44\n",
      "           Q       1.00      1.00      1.00        35\n",
      "           R       0.98      1.00      0.99        42\n",
      "           S       1.00      1.00      1.00        46\n",
      "           T       1.00      1.00      1.00        43\n",
      "           U       1.00      1.00      1.00        27\n",
      "           V       1.00      1.00      1.00        24\n",
      "           W       1.00      1.00      1.00        23\n",
      "           X       1.00      1.00      1.00        40\n",
      "           Y       1.00      1.00      1.00        50\n",
      "\n",
      "    accuracy                           1.00       946\n",
      "   macro avg       1.00      1.00      1.00       946\n",
      "weighted avg       1.00      1.00      1.00       946\n",
      "\n"
     ]
    }
   ],
   "source": [
    "print(classification_report(y_test , y_predict))"
   ]
  },
  {
   "cell_type": "code",
   "execution_count": 26,
   "id": "f571b91d",
   "metadata": {},
   "outputs": [],
   "source": [
    "f = open('model.p', 'wb')\n",
    "pickle.dump({'model': model}, f)\n",
    "f.close()"
   ]
  },
  {
   "cell_type": "code",
   "execution_count": 28,
   "id": "840f3012",
   "metadata": {},
   "outputs": [
    {
     "name": "stdout",
     "output_type": "stream",
     "text": [
      "99.78858350951374% of samples were classified correctly !\n"
     ]
    }
   ],
   "source": [
    "score = accuracy_score(y_predict, y_test)\n",
    "print('{}% of samples were classified correctly !'.format(score * 100))"
   ]
  },
  {
   "cell_type": "code",
   "execution_count": 3,
   "id": "fea8c857",
   "metadata": {},
   "outputs": [],
   "source": [
    "model_dict = pickle.load(open('./model.p', 'rb'))\n",
    "model = model_dict['model']\n",
    "\n",
    "cap = cv2.VideoCapture(0)\n",
    "\n",
    "mp_hands = mp.solutions.hands\n",
    "mp_drawing = mp.solutions.drawing_utils\n",
    "mp_drawing_styles = mp.solutions.drawing_styles\n",
    "\n",
    "# Set static_image_mode=False for video processing\n",
    "hands = mp_hands.Hands(static_image_mode=False, min_detection_confidence=0.3)\n",
    "\n",
    "labels_dict = {\n",
    "    0: 'A', 1: 'B', 2: 'C', 3: 'D', 4: 'E',\n",
    "    5: 'F', 6: 'G', 7: 'H', 8: 'I', 9: 'K',\n",
    "    10: 'L', 11: 'M', 12: 'N', 13: 'O', 14: 'P',\n",
    "    15: 'Q', 16: 'R', 17: 'S', 18: 'T', 19: 'U',\n",
    "    20: 'V', 21: 'W', 22: 'X', 23: 'Y'\n",
    "}\n",
    "\n",
    "# Create reverse dictionary for lookup\n",
    "reverse_labels_dict = {v: k for k, v in labels_dict.items()}\n",
    "\n",
    "while True:\n",
    "    data_aux = []\n",
    "    x_ = []\n",
    "    y_ = []\n",
    "\n",
    "    ret, frame = cap.read()\n",
    "    \n",
    "    # Check if frame was successfully captured\n",
    "    if not ret or frame is None:\n",
    "        print(\"Failed to capture frame\")\n",
    "        continue\n",
    "\n",
    "    H, W, _ = frame.shape\n",
    "\n",
    "    frame_rgb = cv2.cvtColor(frame, cv2.COLOR_BGR2RGB)\n",
    "\n",
    "    results = hands.process(frame_rgb)\n",
    "    if results.multi_hand_landmarks:\n",
    "        for hand_landmarks in results.multi_hand_landmarks:\n",
    "            mp_drawing.draw_landmarks(\n",
    "                frame,  # image to draw\n",
    "                hand_landmarks,  # model output\n",
    "                mp_hands.HAND_CONNECTIONS,  # hand connections\n",
    "                mp_drawing_styles.get_default_hand_landmarks_style(),\n",
    "                mp_drawing_styles.get_default_hand_connections_style())\n",
    "\n",
    "        # Reset data for each detection\n",
    "        data_aux = []\n",
    "        x_ = []\n",
    "        y_ = []\n",
    "        \n",
    "        # Use only the first detected hand\n",
    "        hand_landmarks = results.multi_hand_landmarks[0]\n",
    "        \n",
    "        # First collect all coordinates for normalization\n",
    "        for i in range(len(hand_landmarks.landmark)):\n",
    "            x = hand_landmarks.landmark[i].x\n",
    "            y = hand_landmarks.landmark[i].y\n",
    "            x_.append(x)\n",
    "            y_.append(y)\n",
    "\n",
    "        # Then normalize and store\n",
    "        for i in range(len(hand_landmarks.landmark)):\n",
    "            x = hand_landmarks.landmark[i].x\n",
    "            y = hand_landmarks.landmark[i].y\n",
    "            data_aux.append(x - min(x_))\n",
    "            data_aux.append(y - min(y_))\n",
    "\n",
    "        # Make sure we have the expected data length\n",
    "        if len(data_aux) == 42:  # 21 landmarks × 2 coordinates\n",
    "            x1 = int(min(x_) * W) - 10\n",
    "            y1 = int(min(y_) * H) - 10\n",
    "            x2 = int(max(x_) * W) - 10\n",
    "            y2 = int(max(y_) * H) - 10\n",
    "\n",
    "            prediction = model.predict([np.asarray(data_aux)])\n",
    "            \n",
    "            # Handle string predictions directly\n",
    "            if isinstance(prediction[0], str):\n",
    "                predicted_character = prediction[0]\n",
    "            else:\n",
    "                # If the model actually predicts integers\n",
    "                predicted_character = labels_dict[prediction[0]]\n",
    "\n",
    "            cv2.rectangle(frame, (x1, y1), (x2, y2), (0, 0, 0), 4)\n",
    "            cv2.putText(frame, predicted_character, (x1, y1 - 10), \n",
    "                        cv2.FONT_HERSHEY_SIMPLEX, 1.3, (0, 0, 0), 3, cv2.LINE_AA)\n",
    "\n",
    "    cv2.imshow('frame', frame)\n",
    "    key = cv2.waitKey(1)\n",
    "    \n",
    "    # Press 'q' to quit\n",
    "    if key == ord('q'):\n",
    "        break\n",
    "\n",
    "cap.release()\n",
    "cv2.destroyAllWindows()"
   ]
  }
 ],
 "metadata": {
  "kernelspec": {
   "display_name": "vision_env",
   "language": "python",
   "name": "python3"
  },
  "language_info": {
   "codemirror_mode": {
    "name": "ipython",
    "version": 3
   },
   "file_extension": ".py",
   "mimetype": "text/x-python",
   "name": "python",
   "nbconvert_exporter": "python",
   "pygments_lexer": "ipython3",
   "version": "3.10.15"
  }
 },
 "nbformat": 4,
 "nbformat_minor": 5
}
